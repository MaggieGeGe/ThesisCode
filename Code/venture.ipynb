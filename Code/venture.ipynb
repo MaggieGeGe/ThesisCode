{
 "cells": [
  {
   "cell_type": "code",
   "execution_count": null,
   "metadata": {},
   "outputs": [],
   "source": [
    "import pyautogui\n",
    "import time\n",
    "import webbrowser\n",
    "import pandas as pd\n",
    "import bs4\n",
    "import pyperclip\n",
    "import numpy as np\n",
    "import os\n",
    "import re\n",
    "import math\n",
    "from datetime import datetime, timedelta\n",
    "\n",
    "\n",
    "from urllib.parse import urlparse\n",
    "#%% Windows simulation\n",
    "from selenium import webdriver\n",
    "from selenium.webdriver.common.by import By\n",
    "from selenium.webdriver.support.ui import WebDriverWait\n",
    "from selenium.webdriver.support import expected_conditions as EC\n",
    "from selenium.webdriver.common.keys import Keys\n",
    "from selenium.webdriver.common.action_chains import ActionChains\n",
    "from selenium.webdriver.common.actions.action_builder import ActionBuilder\n",
    "from selenium.common.exceptions import NoSuchElementException\n",
    "\n"
   ]
  }
 ],
 "metadata": {
  "language_info": {
   "name": "python"
  }
 },
 "nbformat": 4,
 "nbformat_minor": 2
}
